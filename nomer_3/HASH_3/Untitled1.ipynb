{
 "cells": [
  {
   "cell_type": "code",
   "execution_count": 1,
   "id": "77a72007",
   "metadata": {},
   "outputs": [],
   "source": [
    "import numpy as np\n",
    "import matplotlib.pyplot as plt\n",
    "import pandas as pd\n",
    "import scipy.stats as sps\n",
    "import seaborn as sns"
   ]
  },
  {
   "cell_type": "code",
   "execution_count": 2,
   "id": "2edf03f8",
   "metadata": {},
   "outputs": [],
   "source": [
    "headers = [\"A\"]\n",
    "x=[]\n",
    "for i in range(5009999):\n",
    "    x.append(i)\n",
    "a=[]\n",
    "data_no_headers = pd.read_csv(\"//Users/alekseimorozov/PycharmProjects/Phystech@DS/mass1.csv\", names=headers)\n",
    "a=data_no_headers.iloc[1:5010000]\n",
    "b=data_no_headers.iloc[5010001:10020000]\n",
    "c=data_no_headers.iloc[10020001:15030000]\n",
    "d=data_no_headers.iloc[15030001:20040000]\n",
    "e=data_no_headers.iloc[20040001:25050000]\n",
    "f=data_no_headers.iloc[25050001:30060000]\n",
    "g=data_no_headers.iloc[30060001:35070000]\n",
    "k=data_no_headers.iloc[35070001:40080000]\n",
    "h=data_no_headers.iloc[40080001:45090000]\n",
    "#data_no_headers.head()\n",
    "plt.plot(x,a[\"A\"],label=\"RSH\")\n",
    "plt.plot(x,b[\"A\"],label=\"JSH\")\n",
    "plt.plot(x,c[\"A\"],label=\"PJWH\")\n",
    "plt.plot(x,d[\"A\"],label=\"ELFH\")\n",
    "plt.plot(x,e[\"A\"],label=\"BKDRH\")\n",
    "plt.plot(x,f[\"A\"],label=\"SDBMH\")\n",
    "plt.plot(x,g[\"A\"],label=\"DJBH\")\n",
    "plt.plot(x,k[\"A\"],label=\"DEKH\")\n",
    "plt.plot(x,h[\"A\"],label=\"APH\")\n",
    "plt.legend()\n",
    "plt.show()"
   ]
  },
  {
   "cell_type": "code",
   "execution_count": null,
   "id": "d508a0ef",
   "metadata": {},
   "outputs": [],
   "source": []
  }
 ],
 "metadata": {
  "kernelspec": {
   "display_name": "Python 3 (ipykernel)",
   "language": "python",
   "name": "python3"
  },
  "language_info": {
   "codemirror_mode": {
    "name": "ipython",
    "version": 3
   },
   "file_extension": ".py",
   "mimetype": "text/x-python",
   "name": "python",
   "nbconvert_exporter": "python",
   "pygments_lexer": "ipython3",
   "version": "3.10.0"
  }
 },
 "nbformat": 4,
 "nbformat_minor": 5
}
